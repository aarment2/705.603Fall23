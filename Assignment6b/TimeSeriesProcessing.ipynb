{
 "cells": [
  {
   "cell_type": "markdown",
   "id": "8509a291",
   "metadata": {},
   "source": [
    "## Time Series Web service.  \n",
    "* Use the carotid_pressure.csv and illiac_pressure.csv for training data to build three models: 1) Carotid Pressure Model, 2) Illiac Pressure Model, 3) Combined Model\n",
    "* Targets are in column name \"targets\"\n",
    "* Convert the various waveforms into useful values for training and inference.  Inference receives a filename(s) from a web GET."
   ]
  },
  {
   "cell_type": "markdown",
   "id": "de82efe3",
   "metadata": {},
   "source": [
    "## Assignment \n",
    "1. Populate the time_series_processing.py following the hints in the comments\n",
    "2. Integrate with time_series_processing_Service.py\n",
    "3. Test locally\n",
    "4. Build requirements.txt and Dockerfile\n",
    "5. Build a docker image\n",
    "6. Test Locally (you are provided 4 testing files for carotid and illiac pressure)\n",
    "7. Push to docker hub\n",
    "8. Populate readme for both github and docker hub (with example docker commands)\n",
    "9. Populate this notebook with working output and a summary that contains an impression of the model and how to improve it.\n",
    "* Check the rubric in canvas to make sure you understand the requirements and the assocated weights for your grade"
   ]
  },
  {
   "cell_type": "code",
   "execution_count": 1,
   "id": "2b9a743c",
   "metadata": {},
   "outputs": [],
   "source": [
    "from time_series_processing import CombinedCardiacPressure\n",
    "from time_series_processing import CarotidPressure\n",
    "from time_series_processing import IlliacPressure\n",
    "cp = CombinedCardiacPressure()\n",
    "carotidp = CarotidPressure()\n",
    "illiacp = IlliacPressure()\n"
   ]
  },
  {
   "cell_type": "markdown",
   "id": "49f0535c",
   "metadata": {},
   "source": [
    "### Test Model first - Get stats"
   ]
  },
  {
   "cell_type": "code",
   "execution_count": 2,
   "id": "2c882a1d",
   "metadata": {},
   "outputs": [
    {
     "name": "stdout",
     "output_type": "stream",
     "text": [
      "Combined Model Stats:  0.6839080459770115\n",
      "Carotid Model Stats:  0.6420361247947455\n",
      "Illiac Model Stats:  0.5559265442404007\n"
     ]
    }
   ],
   "source": [
    "cp.model_stats()\n",
    "carotidp.model_stats()\n",
    "illiacp.model_stats()\n",
    "\n",
    "print(\"Combined Model Stats: \", cp.stats)\n",
    "print(\"Carotid Model Stats: \", carotidp.stats)\n",
    "print(\"Illiac Model Stats: \", illiacp.stats)"
   ]
  },
  {
   "cell_type": "markdown",
   "id": "69f5db41",
   "metadata": {},
   "source": [
    "### Get Determination"
   ]
  },
  {
   "cell_type": "code",
   "execution_count": 3,
   "id": "98e1b2de",
   "metadata": {},
   "outputs": [
    {
     "name": "stdout",
     "output_type": "stream",
     "text": [
      "Combined Model Prediction: [3]\n",
      "Carotid Model Prediction: [3]\n",
      "Carotid Model Prediction: [4]\n"
     ]
    }
   ],
   "source": [
    "carotid_filename = 'data/carotid_pressure_test_4.csv'\n",
    "illiac_filename = 'data/illiac_pressure_test_4.csv'\n",
    "\n",
    "y_prediction_combined = cp.model_infer(carotid_filename, illiac_filename)\n",
    "print(\"Combined Model Prediction:\", y_prediction_combined)\n",
    "\n",
    "y_prediction_carotid = carotidp.model_infer(carotid_filename)\n",
    "print(\"Carotid Model Prediction:\", y_prediction_carotid)\n",
    "\n",
    "y_prediction_illiac = illiacp.model_infer(illiac_filename)\n",
    "print(\"Carotid Model Prediction:\", y_prediction_illiac)"
   ]
  },
  {
   "cell_type": "markdown",
   "id": "4b19ede9",
   "metadata": {},
   "source": [
    "### Start up the service"
   ]
  },
  {
   "cell_type": "code",
   "execution_count": null,
   "id": "614ee65f",
   "metadata": {},
   "outputs": [
    {
     "name": "stdout",
     "output_type": "stream",
     "text": [
      "starting server...\n",
      " * Serving Flask app 'time_series_processing_Service'\n",
      " * Debug mode: on\n",
      "\u001b[31m\u001b[1mWARNING: This is a development server. Do not use it in a production deployment. Use a production WSGI server instead.\u001b[0m\n",
      " * Running on all addresses (0.0.0.0)\n",
      " * Running on http://127.0.0.1:8786\n",
      " * Running on http://172.17.0.2:8786\n",
      "\u001b[33mPress CTRL+C to quit\u001b[0m\n",
      " * Restarting with stat\n",
      "starting server...\n",
      " * Debugger is active!\n",
      " * Debugger PIN: 779-699-371\n",
      "172.17.0.1 - - [26/Oct/2023 06:26:47] \"GET /infer_illiac?illiac_timeseries_filename=data/illiac_pressure_test_3.csv HTTP/1.1\" 200 -\n",
      "172.17.0.1 - - [26/Oct/2023 06:33:35] \"\u001b[35m\u001b[1mGET /infer_combined?carotid_timeseries_filename=data/carotid_pressure_test_3.csv?illiac_timeseries_filename=data/illiac_pressure_test_3.csv HTTP/1.1\u001b[0m\" 500 -\n",
      "Traceback (most recent call last):\n",
      "  File \"/usr/local/lib/python3.10/dist-packages/flask/app.py\", line 1478, in __call__\n",
      "    return self.wsgi_app(environ, start_response)\n",
      "  File \"/usr/local/lib/python3.10/dist-packages/flask/app.py\", line 1458, in wsgi_app\n",
      "    response = self.handle_exception(e)\n",
      "  File \"/usr/local/lib/python3.10/dist-packages/flask/app.py\", line 1455, in wsgi_app\n",
      "    response = self.full_dispatch_request()\n",
      "  File \"/usr/local/lib/python3.10/dist-packages/flask/app.py\", line 869, in full_dispatch_request\n",
      "    rv = self.handle_user_exception(e)\n",
      "  File \"/usr/local/lib/python3.10/dist-packages/flask/app.py\", line 867, in full_dispatch_request\n",
      "    rv = self.dispatch_request()\n",
      "  File \"/usr/local/lib/python3.10/dist-packages/flask/app.py\", line 852, in dispatch_request\n",
      "    return self.ensure_sync(self.view_functions[rule.endpoint])(**view_args)\n",
      "  File \"/workspace/time_series_processing_Service.py\", line 30, in getInfer_combined\n",
      "    str2 = str(CP.model_infer(carotid, illiac))\n",
      "  File \"/workspace/time_series_processing.py\", line 148, in model_infer\n",
      "    carotid_df_infer = pd.read_csv(time_series_carotid_filename)\n",
      "  File \"/usr/local/lib/python3.10/dist-packages/pandas/util/_decorators.py\", line 211, in wrapper\n",
      "    return func(*args, **kwargs)\n",
      "  File \"/usr/local/lib/python3.10/dist-packages/pandas/util/_decorators.py\", line 331, in wrapper\n",
      "    return func(*args, **kwargs)\n",
      "  File \"/usr/local/lib/python3.10/dist-packages/pandas/io/parsers/readers.py\", line 950, in read_csv\n",
      "    return _read(filepath_or_buffer, kwds)\n",
      "  File \"/usr/local/lib/python3.10/dist-packages/pandas/io/parsers/readers.py\", line 605, in _read\n",
      "    parser = TextFileReader(filepath_or_buffer, **kwds)\n",
      "  File \"/usr/local/lib/python3.10/dist-packages/pandas/io/parsers/readers.py\", line 1442, in __init__\n",
      "    self._engine = self._make_engine(f, self.engine)\n",
      "  File \"/usr/local/lib/python3.10/dist-packages/pandas/io/parsers/readers.py\", line 1735, in _make_engine\n",
      "    self.handles = get_handle(\n",
      "  File \"/usr/local/lib/python3.10/dist-packages/pandas/io/common.py\", line 856, in get_handle\n",
      "    handle = open(\n",
      "FileNotFoundError: [Errno 2] No such file or directory: 'data/carotid_pressure_test_3.csv?illiac_timeseries_filename=data/illiac_pressure_test_3.csv'\n",
      "172.17.0.1 - - [26/Oct/2023 06:33:35] \"\u001b[36mGET /infer_combined?__debugger__=yes&cmd=resource&f=style.css HTTP/1.1\u001b[0m\" 304 -\n",
      "172.17.0.1 - - [26/Oct/2023 06:33:35] \"\u001b[36mGET /infer_combined?__debugger__=yes&cmd=resource&f=debugger.js HTTP/1.1\u001b[0m\" 304 -\n",
      "172.17.0.1 - - [26/Oct/2023 06:33:35] \"\u001b[36mGET /infer_combined?__debugger__=yes&cmd=resource&f=console.png HTTP/1.1\u001b[0m\" 304 -\n",
      "172.17.0.1 - - [26/Oct/2023 06:34:14] \"GET /infer_combined?carotid_timeseries_filename=data/carotid_pressure_test_3.csv&illiac_timeseries_filename=data/illiac_pressure_test_3.csv HTTP/1.1\" 200 -\n",
      " * Detected change in '/workspace/.ipynb_checkpoints/time_series_processing-checkpoint.py', reloading\n",
      " * Restarting with stat\n",
      "starting server...\n",
      " * Debugger is active!\n",
      " * Debugger PIN: 779-699-371\n",
      "172.17.0.1 - - [26/Oct/2023 06:58:01] \"\u001b[33mGET / HTTP/1.1\u001b[0m\" 404 -\n",
      "172.17.0.1 - - [26/Oct/2023 06:58:23] \"GET /stats_combined HTTP/1.1\" 200 -\n",
      "172.17.0.1 - - [26/Oct/2023 07:00:18] \"GET /stats_carotid HTTP/1.1\" 200 -\n",
      "172.17.0.1 - - [26/Oct/2023 07:01:10] \"\u001b[35m\u001b[1mGET /infer_combined?carotid_timeseries_filename=data/carotid_pressure_test_3.csv HTTP/1.1\u001b[0m\" 500 -\n",
      "Traceback (most recent call last):\n",
      "  File \"/usr/local/lib/python3.10/dist-packages/flask/app.py\", line 1478, in __call__\n",
      "    return self.wsgi_app(environ, start_response)\n",
      "  File \"/usr/local/lib/python3.10/dist-packages/flask/app.py\", line 1458, in wsgi_app\n",
      "    response = self.handle_exception(e)\n",
      "  File \"/usr/local/lib/python3.10/dist-packages/flask/app.py\", line 1455, in wsgi_app\n",
      "    response = self.full_dispatch_request()\n",
      "  File \"/usr/local/lib/python3.10/dist-packages/flask/app.py\", line 869, in full_dispatch_request\n",
      "    rv = self.handle_user_exception(e)\n",
      "  File \"/usr/local/lib/python3.10/dist-packages/flask/app.py\", line 867, in full_dispatch_request\n",
      "    rv = self.dispatch_request()\n",
      "  File \"/usr/local/lib/python3.10/dist-packages/flask/app.py\", line 852, in dispatch_request\n",
      "    return self.ensure_sync(self.view_functions[rule.endpoint])(**view_args)\n",
      "  File \"/workspace/time_series_processing_Service.py\", line 30, in getInfer_combined\n",
      "    str2 = str(CP.model_infer(carotid, illiac))\n",
      "  File \"/workspace/time_series_processing.py\", line 141, in model_infer\n",
      "    illiac_df_infer = pd.read_csv(time_series_illiac_filename)\n",
      "  File \"/usr/local/lib/python3.10/dist-packages/pandas/util/_decorators.py\", line 211, in wrapper\n",
      "    return func(*args, **kwargs)\n",
      "  File \"/usr/local/lib/python3.10/dist-packages/pandas/util/_decorators.py\", line 331, in wrapper\n",
      "    return func(*args, **kwargs)\n",
      "  File \"/usr/local/lib/python3.10/dist-packages/pandas/io/parsers/readers.py\", line 950, in read_csv\n",
      "    return _read(filepath_or_buffer, kwds)\n",
      "  File \"/usr/local/lib/python3.10/dist-packages/pandas/io/parsers/readers.py\", line 605, in _read\n",
      "    parser = TextFileReader(filepath_or_buffer, **kwds)\n",
      "  File \"/usr/local/lib/python3.10/dist-packages/pandas/io/parsers/readers.py\", line 1442, in __init__\n",
      "    self._engine = self._make_engine(f, self.engine)\n",
      "  File \"/usr/local/lib/python3.10/dist-packages/pandas/io/parsers/readers.py\", line 1735, in _make_engine\n",
      "    self.handles = get_handle(\n",
      "  File \"/usr/local/lib/python3.10/dist-packages/pandas/io/common.py\", line 713, in get_handle\n",
      "    ioargs = _get_filepath_or_buffer(\n",
      "  File \"/usr/local/lib/python3.10/dist-packages/pandas/io/common.py\", line 451, in _get_filepath_or_buffer\n",
      "    raise ValueError(msg)\n",
      "ValueError: Invalid file path or buffer object type: <class 'NoneType'>\n",
      "172.17.0.1 - - [26/Oct/2023 07:01:10] \"\u001b[36mGET /infer_combined?__debugger__=yes&cmd=resource&f=style.css HTTP/1.1\u001b[0m\" 304 -\n",
      "172.17.0.1 - - [26/Oct/2023 07:01:10] \"\u001b[36mGET /infer_combined?__debugger__=yes&cmd=resource&f=debugger.js HTTP/1.1\u001b[0m\" 304 -\n",
      "172.17.0.1 - - [26/Oct/2023 07:01:10] \"\u001b[36mGET /infer_combined?__debugger__=yes&cmd=resource&f=console.png HTTP/1.1\u001b[0m\" 304 -\n",
      "172.17.0.1 - - [26/Oct/2023 07:01:23] \"GET /infer_carotid?carotid_timeseries_filename=data/carotid_pressure_test_3.csv HTTP/1.1\" 200 -\n",
      "172.17.0.1 - - [26/Oct/2023 07:02:00] \"GET /stats_illiac HTTP/1.1\" 200 -\n",
      "172.17.0.1 - - [26/Oct/2023 07:03:15] \"GET /infer_illiac?illiac_timeseries_filename=data/illiac_pressure_test_3.csv HTTP/1.1\" 200 -\n"
     ]
    }
   ],
   "source": [
    "!python time_series_processing_Service.py"
   ]
  },
  {
   "cell_type": "markdown",
   "id": "266a3f2c",
   "metadata": {},
   "source": [
    "Try out the links \n",
    "* [stats](http://fillin)\n",
    "* [determination](http://fillin)"
   ]
  },
  {
   "cell_type": "markdown",
   "id": "e58d4dda",
   "metadata": {},
   "source": [
    "### You must kill the kernel to try again for the port stays locked to the current kernel"
   ]
  },
  {
   "cell_type": "markdown",
   "id": "5af1c770",
   "metadata": {},
   "source": [
    "# Summary\n",
    "* Assignment and Model Results\n",
    "* Techniques to improve the results"
   ]
  },
  {
   "cell_type": "markdown",
   "id": "106895e0",
   "metadata": {},
   "source": [
    "PUT YOUR ANSWERS HERE which could include additional cells with working code examples"
   ]
  },
  {
   "cell_type": "code",
   "execution_count": null,
   "id": "ba8758c0",
   "metadata": {},
   "outputs": [],
   "source": []
  }
 ],
 "metadata": {
  "kernelspec": {
   "display_name": "Python 3 (ipykernel)",
   "language": "python",
   "name": "python3"
  },
  "language_info": {
   "codemirror_mode": {
    "name": "ipython",
    "version": 3
   },
   "file_extension": ".py",
   "mimetype": "text/x-python",
   "name": "python",
   "nbconvert_exporter": "python",
   "pygments_lexer": "ipython3",
   "version": "3.10.6"
  }
 },
 "nbformat": 4,
 "nbformat_minor": 5
}
