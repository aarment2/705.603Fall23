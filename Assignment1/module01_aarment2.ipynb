{
 "cells": [
  {
   "cell_type": "markdown",
   "id": "4c4af0f3",
   "metadata": {},
   "source": [
    "Module 1 HW - Test Notebook - Antonio Armenta"
   ]
  },
  {
   "cell_type": "code",
   "execution_count": 2,
   "id": "a73bcd44",
   "metadata": {},
   "outputs": [
    {
     "name": "stdout",
     "output_type": "stream",
     "text": [
      "Hello from Module 1 HW - Test Notebook - Antonio Armenta\n"
     ]
    }
   ],
   "source": [
    "print(\"Hello from Module 1 HW - Test Notebook - Antonio Armenta\")"
   ]
  },
  {
   "cell_type": "code",
   "execution_count": null,
   "id": "c097f2de",
   "metadata": {},
   "outputs": [],
   "source": [
    "print(\"Second Commit\")"
   ]
  }
 ],
 "metadata": {
  "kernelspec": {
   "display_name": "Python 3 (ipykernel)",
   "language": "python",
   "name": "python3"
  },
  "language_info": {
   "codemirror_mode": {
    "name": "ipython",
    "version": 3
   },
   "file_extension": ".py",
   "mimetype": "text/x-python",
   "name": "python",
   "nbconvert_exporter": "python",
   "pygments_lexer": "ipython3",
   "version": "3.8.10"
  }
 },
 "nbformat": 4,
 "nbformat_minor": 5
}
