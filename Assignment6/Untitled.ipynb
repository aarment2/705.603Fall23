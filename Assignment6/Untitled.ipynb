{
 "cells": [
  {
   "cell_type": "code",
   "execution_count": 1,
   "id": "f75e2035",
   "metadata": {},
   "outputs": [
    {
     "name": "stdout",
     "output_type": "stream",
     "text": [
      "Type:  <class 'list'>\n",
      "[4 6]\n",
      "Object: person,1.0 with confidence of 1.00\n",
      "Object: person,1.0 with confidence of 1.00\n"
     ]
    },
    {
     "ename": "IndexError",
     "evalue": "list index out of range",
     "output_type": "error",
     "traceback": [
      "\u001b[0;31m---------------------------------------------------------------------------\u001b[0m",
      "\u001b[0;31mIndexError\u001b[0m                                Traceback (most recent call last)",
      "Cell \u001b[0;32mIn[1], line 25\u001b[0m\n\u001b[1;32m     22\u001b[0m imgtest \u001b[38;5;241m=\u001b[39m cv\u001b[38;5;241m.\u001b[39mimread(\u001b[38;5;124m\"\u001b[39m\u001b[38;5;124mpictures/bermuda.jpg\u001b[39m\u001b[38;5;124m\"\u001b[39m)\n\u001b[1;32m     23\u001b[0m testObject \u001b[38;5;241m=\u001b[39m ObjectDetection()\n\u001b[0;32m---> 25\u001b[0m imgtest \u001b[38;5;241m=\u001b[39m \u001b[43mtestObject\u001b[49m\u001b[38;5;241;43m.\u001b[39;49m\u001b[43mprocess_image\u001b[49m\u001b[43m(\u001b[49m\u001b[43mimgtest\u001b[49m\u001b[43m)\u001b[49m\n\u001b[1;32m     29\u001b[0m plot_cv_img(imgtest)\n",
      "File \u001b[0;32m/workspace/GraphicDataProcessing.py:60\u001b[0m, in \u001b[0;36mObjectDetection.process_image\u001b[0;34m(self, image)\u001b[0m\n\u001b[1;32m     57\u001b[0m \u001b[38;5;66;03m#detectionResults[1] = image #Object detection first done to resized, but otherwise unaltered image\u001b[39;00m\n\u001b[1;32m     59\u001b[0m \u001b[38;5;28;01mfor\u001b[39;00m x \u001b[38;5;129;01min\u001b[39;00m \u001b[38;5;28mrange\u001b[39m(\u001b[38;5;241m10\u001b[39m):\n\u001b[0;32m---> 60\u001b[0m     detectionResults[x] \u001b[38;5;241m=\u001b[39m \u001b[38;5;28mself\u001b[39m\u001b[38;5;241m.\u001b[39mrotate_image(\u001b[43mdetectionResults\u001b[49m\u001b[43m[\u001b[49m\u001b[43mx\u001b[49m\u001b[43m]\u001b[49m, rotation_angle)\n\u001b[1;32m     61\u001b[0m     detectionResults[x] \u001b[38;5;241m=\u001b[39m \u001b[38;5;28mself\u001b[39m\u001b[38;5;241m.\u001b[39madd_noise(detectionResults[x], noise_intensity)\n\u001b[1;32m     62\u001b[0m     \u001b[38;5;28mself\u001b[39m\u001b[38;5;241m.\u001b[39mdetect_objects(detectionResults[x])\n",
      "\u001b[0;31mIndexError\u001b[0m: list index out of range"
     ]
    }
   ],
   "source": [
    "#Test the GraphicDataProcessing Class\n",
    "import cv2 as cv\n",
    "import numpy as np\n",
    "import matplotlib.pyplot as plt \n",
    "from wandb import Classes\n",
    "from GraphicDataProcessing import ObjectDetection\n",
    "\n",
    "def plot_cv_img(input_image):     \n",
    "    \"\"\"     \n",
    "    Converts an image from BGR to RGB and plots     \n",
    "    \"\"\"   \n",
    "    # change color channels order for matplotlib     \n",
    "    plt.imshow(cv.cvtColor(input_image, cv.COLOR_BGR2RGB))          \n",
    "\n",
    "    # For easier view, turn off axis around image     \n",
    "    plt.axis('off')  \n",
    "    # Must save prior to show - for show clears the image!\n",
    "    plt.savefig(\"DetectionOutput.jpg\")\n",
    "    plt.show()\n",
    "    \n",
    "    \n",
    "imgtest = cv.imread(\"pictures/bermuda.jpg\")\n",
    "testObject = ObjectDetection()\n",
    "\n",
    "imgtest = testObject.process_image(imgtest)\n",
    "\n",
    "\n",
    "\n",
    "plot_cv_img(imgtest)\n"
   ]
  },
  {
   "cell_type": "code",
   "execution_count": null,
   "id": "515ef809",
   "metadata": {},
   "outputs": [],
   "source": []
  },
  {
   "cell_type": "code",
   "execution_count": null,
   "id": "a6a4778d",
   "metadata": {},
   "outputs": [],
   "source": []
  },
  {
   "cell_type": "code",
   "execution_count": null,
   "id": "f8e57492",
   "metadata": {},
   "outputs": [],
   "source": []
  }
 ],
 "metadata": {
  "kernelspec": {
   "display_name": "Python 3 (ipykernel)",
   "language": "python",
   "name": "python3"
  },
  "language_info": {
   "codemirror_mode": {
    "name": "ipython",
    "version": 3
   },
   "file_extension": ".py",
   "mimetype": "text/x-python",
   "name": "python",
   "nbconvert_exporter": "python",
   "pygments_lexer": "ipython3",
   "version": "3.10.6"
  }
 },
 "nbformat": 4,
 "nbformat_minor": 5
}
