{
 "cells": [
  {
   "cell_type": "markdown",
   "id": "affc553f",
   "metadata": {},
   "source": [
    "## Categorical Web service to determine number of days to sell a car given certain features using logistic regression.  \n",
    "* Use the cars.csv for data\n",
    "* Initially use the following 6 features only -  **transmision**, **color**, odometer_value,  year_produced, **body_type**, & prices_usd\n",
    "* The bold features require conversion to numbers for they are text categories\n",
    "* The label or Y value is duration_listed - this is what the model is trying to predict"
   ]
  },
  {
   "cell_type": "markdown",
   "id": "7f215313",
   "metadata": {},
   "source": [
    "## Assignment \n",
    "1. Populate the carfactors.py following the hints in the comments\n",
    "1. Integrate with carfactors_service\n",
    "1. Test locally\n",
    "1. Build requirements.txt and Dockerfile\n",
    "1. Build a docker image\n",
    "1. Test Locally\n",
    "1. Push to docker hub\n",
    "1. Populate readme for both github and docker hub (with example docker commands)\n",
    "1. Populate this notebook with working output and a summary that contains an impression of the model and how to improve it.\n",
    "* Check the rubric in canvas to make sure you understand the requirements and the assocated weights for your grade"
   ]
  },
  {
   "cell_type": "code",
   "execution_count": 1,
   "id": "90d02f0e",
   "metadata": {},
   "outputs": [],
   "source": [
    "from carsfactors import carsfactors\n",
    "cf = carsfactors()"
   ]
  },
  {
   "cell_type": "markdown",
   "id": "572929bd",
   "metadata": {},
   "source": [
    "### Test Model first - Get stats"
   ]
  },
  {
   "cell_type": "code",
   "execution_count": 2,
   "id": "8b1e1c2c",
   "metadata": {},
   "outputs": [
    {
     "data": {
      "text/plain": [
       "'0.0044436402632556105'"
      ]
     },
     "execution_count": 2,
     "metadata": {},
     "output_type": "execute_result"
    }
   ],
   "source": [
    "cf.model_stats()"
   ]
  },
  {
   "cell_type": "markdown",
   "id": "e6c25421",
   "metadata": {},
   "source": [
    "### Get Determination"
   ]
  },
  {
   "cell_type": "code",
   "execution_count": 3,
   "id": "35cae95a",
   "metadata": {},
   "outputs": [
    {
     "name": "stdout",
     "output_type": "stream",
     "text": [
      "http://localhost:8786/infer?transmission=automatic&color=blue&odometer=12000&year=2020&bodytype=suv&price=20000\n"
     ]
    }
   ],
   "source": [
    "#Construct the arguments for inference - test the service\n",
    "transmission = 'automatic'\n",
    "color = 'blue'\n",
    "odometer = 12000\n",
    "year = 2020\n",
    "bodytype = 'suv'\n",
    "price = 20000\n",
    "hyperlink = 'http://localhost:8786/infer?transmission='+transmission+'&color='+color+'&odometer='+str(odometer)+'&year='+str(year)+'&bodytype='+bodytype+'&price='+str(price)\n",
    "\n",
    "print(hyperlink)\n",
    "#Click link below for inference:"
   ]
  },
  {
   "cell_type": "markdown",
   "id": "5f9fae0a",
   "metadata": {},
   "source": [
    "### Start up the service"
   ]
  },
  {
   "cell_type": "code",
   "execution_count": null,
   "id": "b994fabc",
   "metadata": {},
   "outputs": [
    {
     "name": "stdout",
     "output_type": "stream",
     "text": [
      "starting server...\n",
      " * Serving Flask app 'carfactors_service'\n",
      " * Debug mode: off\n",
      "\u001b[31m\u001b[1mWARNING: This is a development server. Do not use it in a production deployment. Use a production WSGI server instead.\u001b[0m\n",
      " * Running on all addresses (0.0.0.0)\n",
      " * Running on http://127.0.0.1:8786\n",
      " * Running on http://172.17.0.2:8786\n",
      "\u001b[33mPress CTRL+C to quit\u001b[0m\n",
      "172.17.0.1 - - [24/Sep/2023 22:38:49] \"GET /stats HTTP/1.1\" 200 -\n",
      "172.17.0.1 - - [24/Sep/2023 22:45:36] \"GET /stats HTTP/1.1\" 200 -\n"
     ]
    }
   ],
   "source": [
    "!python carfactors_service.py\n",
    "\n",
    "#Determination:\n",
    "print(hyperlink)\n"
   ]
  },
  {
   "cell_type": "markdown",
   "id": "e3e1cac2",
   "metadata": {},
   "source": [
    "Try out the links \n",
    "* [stats](http://127.0.0.1:8786/stats)"
   ]
  },
  {
   "cell_type": "markdown",
   "id": "3b2496af",
   "metadata": {},
   "source": [
    "### You must kill the kernel to try again for the port stays locked to the current kernel"
   ]
  },
  {
   "cell_type": "markdown",
   "id": "91fe0db3",
   "metadata": {},
   "source": [
    "# Summary\n",
    "* Assignment and Model Results\n",
    "* Techniques to improve the results"
   ]
  },
  {
   "cell_type": "markdown",
   "id": "43dc6a19",
   "metadata": {},
   "source": [
    "PUT YOUR ANSWERS HERE which could include additional cells with working code examples"
   ]
  },
  {
   "cell_type": "code",
   "execution_count": null,
   "id": "19d23773",
   "metadata": {},
   "outputs": [],
   "source": [
    "The goal of this assignment is to build and test a linear regression model for categorical data.\n",
    "Input data pertains to several car features and the duration in days that each remained listed until it was sold.\n",
    "For our model, we will only consider the following features: transmision, color, odometer_value, year_produced, body_type, and prices_usd.\n",
    "\n",
    "Ingest data is cleaned and split in inputs and outputs.\n",
    "String input data is encoded. bodytype is encoded using and OrdinalEncoder, while transmission and color are encoded using OneHotEncoders\n",
    "Integer data is scaled using a standard scaler.\n",
    "Data is split into inputs (X) and output (y).\n",
    "The model is trained using linear regression.\n",
    "\n",
    "Using a flask service, the model can be prompted for a new inference.\n",
    "\n",
    "This trained linear regression model yields an accuracy of ~6.3%, which is very low."
   ]
  },
  {
   "cell_type": "code",
   "execution_count": null,
   "id": "c57672ed",
   "metadata": {},
   "outputs": [],
   "source": [
    "Some techniques suggested to improve the results:\n",
    "    * Try different scaling methods. We exployed the StandardScaler, but other methods such as MinMax and RobustScaler could yield better results.\n",
    "    * Include more car features into the training function.\n",
    "    * The csv files does not seem to be missing any data, so this should not be an issue."
   ]
  }
 ],
 "metadata": {
  "kernelspec": {
   "display_name": "Python 3 (ipykernel)",
   "language": "python",
   "name": "python3"
  },
  "language_info": {
   "codemirror_mode": {
    "name": "ipython",
    "version": 3
   },
   "file_extension": ".py",
   "mimetype": "text/x-python",
   "name": "python",
   "nbconvert_exporter": "python",
   "pygments_lexer": "ipython3",
   "version": "3.10.6"
  }
 },
 "nbformat": 4,
 "nbformat_minor": 5
}
