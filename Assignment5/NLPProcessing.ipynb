{
 "cells": [
  {
   "cell_type": "markdown",
   "id": "fa2fffa3",
   "metadata": {},
   "source": [
    "## Sentiment Web service.  \n",
    "* Use the Restaurant_Reviews.tsv for data\n",
    "* Convert the various text strings into useful vectors for training and inference.  Inference receives a text phrase from a web GET."
   ]
  },
  {
   "cell_type": "markdown",
   "id": "86d696d6",
   "metadata": {},
   "source": [
    "## Assignment \n",
    "1. Populate the natural_language_processing.py following the hints in the comments\n",
    "1. Integrate with natural_language_processing_Service.py\n",
    "1. Test locally\n",
    "1. Build requirements.txt and Dockerfile\n",
    "1. Build a docker image\n",
    "1. Test Locally\n",
    "1. Push to docker hub\n",
    "1. Populate readme for both github and docker hub (with example docker commands)\n",
    "1. Populate this notebook with working output and a summary that contains an impression of the model and how to improve it.\n",
    "* Check the rubric in canvas to make sure you understand the requirements and the assocated weights for your grade"
   ]
  },
  {
   "cell_type": "code",
   "execution_count": 1,
   "id": "8cceaa39",
   "metadata": {},
   "outputs": [],
   "source": [
    "from natural_language_processing import Sentiment\n",
    "from urllib.parse import quote\n",
    "se = Sentiment()"
   ]
  },
  {
   "cell_type": "markdown",
   "id": "28b7bb7a",
   "metadata": {},
   "source": [
    "### Test Model first - Get stats"
   ]
  },
  {
   "cell_type": "code",
   "execution_count": 2,
   "id": "a16fb7d5",
   "metadata": {},
   "outputs": [
    {
     "name": "stderr",
     "output_type": "stream",
     "text": [
      "[nltk_data] Downloading package stopwords to /root/nltk_data...\n",
      "[nltk_data]   Package stopwords is already up-to-date!\n"
     ]
    },
    {
     "data": {
      "text/plain": [
       "'0.725'"
      ]
     },
     "execution_count": 2,
     "metadata": {},
     "output_type": "execute_result"
    }
   ],
   "source": [
    "se.model_stats()"
   ]
  },
  {
   "cell_type": "markdown",
   "id": "c6e19e04",
   "metadata": {},
   "source": [
    "### Get Determination"
   ]
  },
  {
   "cell_type": "code",
   "execution_count": 3,
   "id": "d9032657",
   "metadata": {},
   "outputs": [
    {
     "name": "stdout",
     "output_type": "stream",
     "text": [
      "Click URL below to run service with input string\n",
      "http://localhost:8786/infer?sentence=Excellent%20food.%20I%20loved%20the%20steak%20and%20chocolate%20cake.%20Absolutely%20recommend%20it\n"
     ]
    }
   ],
   "source": [
    "test = \"Excellent food. I loved the steak and chocolate cake. Absolutely recommend it\"\n",
    "#test = \"Food was edible, but not great. Steak was overcooked.\"\n",
    "#test = \"Absolutely disgusting. We're never coming back\"\n",
    "#test = \"We will come back and give it another try\"\n",
    "se.model_infer(test)\n",
    "#print(se.test)\n",
    "\n",
    "input = quote(\"Excellent food. I loved the steak and chocolate cake. Absolutely recommend it\")\n",
    "url = \"http://localhost:8786/infer?sentence=\"+input\n",
    "print (\"Click URL below to run service with input string\")\n",
    "print (url)"
   ]
  },
  {
   "cell_type": "markdown",
   "id": "79c46c45",
   "metadata": {},
   "source": [
    "### Start up the service"
   ]
  },
  {
   "cell_type": "code",
   "execution_count": null,
   "id": "6b672e23",
   "metadata": {},
   "outputs": [
    {
     "name": "stdout",
     "output_type": "stream",
     "text": [
      "starting server...\n",
      " * Serving Flask app 'natural_language_processing_Service'\n",
      " * Debug mode: off\n",
      "\u001b[31m\u001b[1mWARNING: This is a development server. Do not use it in a production deployment. Use a production WSGI server instead.\u001b[0m\n",
      " * Running on all addresses (0.0.0.0)\n",
      " * Running on http://127.0.0.1:8786\n",
      " * Running on http://172.17.0.2:8786\n",
      "\u001b[33mPress CTRL+C to quit\u001b[0m\n",
      "[nltk_data] Downloading package stopwords to /root/nltk_data...\n",
      "[nltk_data]   Package stopwords is already up-to-date!\n",
      "172.17.0.1 - - [02/Oct/2023 04:14:18] \"GET /infer?sentence=Excellent%20food.%20I%20loved%20the%20steak%20and%20chocolate%20cake.%20Absolutely%20recommend%20it HTTP/1.1\" 200 -\n"
     ]
    }
   ],
   "source": [
    "!python natural_language_processing_Service.py"
   ]
  },
  {
   "cell_type": "markdown",
   "id": "0468ef37",
   "metadata": {},
   "source": [
    "Try out the links \n",
    "* [stats](http://localhost:8786/stats)"
   ]
  },
  {
   "cell_type": "markdown",
   "id": "0d8e74ff",
   "metadata": {},
   "source": [
    "### You must kill the kernel to try again for the port stays locked to the current kernel"
   ]
  },
  {
   "cell_type": "markdown",
   "id": "f71cc814",
   "metadata": {},
   "source": [
    "# Summary\n",
    "* Assignment and Model Results\n",
    "* Techniques to improve the results"
   ]
  },
  {
   "cell_type": "markdown",
   "id": "9c2e0bd1",
   "metadata": {},
   "source": [
    "PUT YOUR ANSWERS HERE which could include additional cells with working code examples"
   ]
  },
  {
   "cell_type": "code",
   "execution_count": null,
   "id": "721f86fd",
   "metadata": {},
   "outputs": [],
   "source": []
  }
 ],
 "metadata": {
  "kernelspec": {
   "display_name": "Python 3 (ipykernel)",
   "language": "python",
   "name": "python3"
  },
  "language_info": {
   "codemirror_mode": {
    "name": "ipython",
    "version": 3
   },
   "file_extension": ".py",
   "mimetype": "text/x-python",
   "name": "python",
   "nbconvert_exporter": "python",
   "pygments_lexer": "ipython3",
   "version": "3.10.6"
  }
 },
 "nbformat": 4,
 "nbformat_minor": 5
}
