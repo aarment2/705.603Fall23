{
 "cells": [
  {
   "cell_type": "markdown",
   "id": "ecee62f3",
   "metadata": {},
   "source": [
    "# Purpose and Justification"
   ]
  },
  {
   "cell_type": "markdown",
   "id": "da05530f",
   "metadata": {},
   "source": [
    "IMPROVE IN-VITRO FERTILIZATION SUCCESS RATIO\n",
    "\n",
    "Infertility rates are on the rise worldwide due to multiple factors related to changes in our modern lifestyles. Couples are deciding to conceive children later in life more so than in the past. A male partner is more likely to experience infertility over the age of 40. Also, a woman’s eggs quality and quantity decline as she gets older. Other factors behind the rise in infertility include environmental factors, medications, smoking, and stress.\n",
    "\n",
    "In-Vitro Fertilization (IVF) offers a viable solution to many couples facing infertility problems. However, the success rate of In-Vitro Fertilization is an average of only 30%. The cost of an IVF cycle in the United States ranges between $15,000 and $30,000. With the low success rate, many couples are going through the process several times, incurring high costs. Other couples give up altogether after the first cycle.\n",
    "\n",
    "IVF procedures are expensive, and most of the time not covered by insurance. At the same time, the IVF industry is expected to grow at an annual rate of 10% for the next 8 years, making the issue of success rate volumetrically even more significant in the mid-term. IVF procedures carry a heavy emotional and economical burden on patients, and with all the factors considered, it means that many patients never achieve pregnancy. The issue might not be solved entirely, at least perhaps not in the short term, but taking steps towards incrementally improving the chances of success would lead to more and more satisfied patients.\n",
    "\n",
    "The goal of this project is to identify and categorize the root causes of IVF failure and then find a solution to a major contributing cause of failure using a data-driven approach."
   ]
  },
  {
   "cell_type": "markdown",
   "id": "4525bd6b",
   "metadata": {},
   "source": [
    "# Domain Expertise"
   ]
  },
  {
   "cell_type": "markdown",
   "id": "34671201",
   "metadata": {},
   "source": [
    "- To consult with PozitIVF, a San Antonio-based IVF clinic that is working towards improving success ratios.\n",
    "- To research other IVF practices in the United States and worldwide to learn the state-of-the-art of the industry in terms of research to find improvement opportunities.\n",
    "- Reach out to pertinent IVF contacts that may provide meaningful research data and insights."
   ]
  },
  {
   "cell_type": "markdown",
   "id": "884dd47b",
   "metadata": {},
   "source": [
    "# Overall Design"
   ]
  },
  {
   "cell_type": "markdown",
   "id": "0059bfd6",
   "metadata": {},
   "source": [
    "- Create a workflow diagram of the IVF process, including inputs and outputs, decision points, and “error” handling.\n",
    "- Analyze failure cases to find common cause or causes. Use the pareto principle to categorize and prioritize detected causes.\n",
    "- Gather data available (research papers, experiments) from recent studies. In particular, studies dedicated to DNA replication issues.\n",
    "- Design a potential solution or solutions. Having done the pareto analysis, identified those root causes with the most impact and identify what data-driven approach can help find a solution. For instance, DNA replication issues which can be detected ahead of time on embryos using vision systems."
   ]
  },
  {
   "cell_type": "markdown",
   "id": "be02f81d",
   "metadata": {},
   "source": [
    "# Data"
   ]
  },
  {
   "cell_type": "markdown",
   "id": "0aab5d28",
   "metadata": {},
   "source": [
    "Some research papers available and other relevant websites:\n",
    "\n",
    "https://www.ncbi.nlm.nih.gov/pmc/articles/PMC8324729/\n",
    "\n",
    "https://www.globenewswire.com/en/news-release/2023/01/31/2598511/0/en/With-10-1-CAGR-In-Vitro-Fertilization-Market-Size-to-Surpass-USD-36-39-billion-by-2026.html\n",
    "\n",
    "https://www.ncbi.nlm.nih.gov/pmc/articles/PMC4934614/#:~:text=the%20whole%20cohort.-,In%20all%20women%20the%20live%2Dbirth%20rate%20for%20the%20first,not%20have%20a%20live%2Dbirth.\n",
    "\n",
    "https://academic.oup.com/humrep/article/26/8/2239/650853\n",
    "\n",
    "https://fertilityspace.io/blog/ivf-success-rates-by-age-in-2022-united-states-data\n",
    "\n",
    "https://www.bmj.com/content/355/bmj.i5735\n",
    "\n",
    "More papers anda data to continue to be collected."
   ]
  },
  {
   "cell_type": "markdown",
   "id": "8255434d",
   "metadata": {},
   "source": [
    "## Data Selection"
   ]
  },
  {
   "cell_type": "markdown",
   "id": "5679ebc6",
   "metadata": {},
   "source": [
    "- Question: From the data available, is it possible to determine the top contributing root causes of failure? In other words, can we apply the pareto principle with the data at hand?\n",
    "- If not, what other data / studies are needed? \n",
    "- Can we make assumptions from the data to choose top contributing root causes?"
   ]
  },
  {
   "cell_type": "markdown",
   "id": "0f4348a7",
   "metadata": {},
   "source": [
    "## Data Ingest"
   ]
  },
  {
   "cell_type": "markdown",
   "id": "fcf0dee1",
   "metadata": {},
   "source": [
    "- Choose relevant sources of information based on previous step.\n",
    "- Collect data and store in a centralized repository.\n",
    "- Are the opportunities to consolidate?\n",
    "- There is no real-time data available, the model is probably going to look closer to batch data ingestion."
   ]
  },
  {
   "cell_type": "markdown",
   "id": "e03bad81",
   "metadata": {},
   "source": [
    "## Data Validation"
   ]
  },
  {
   "cell_type": "markdown",
   "id": "0948a607",
   "metadata": {},
   "source": [
    "- Check that data fields are consistently the right type (integers, strings, booleans, etc.)\n",
    "- Consider maximum and mininum values allowed for each field.\n",
    "- Apply custom, specific rules to determine data validity.\n",
    "- Apply, if possible, additional consistency rules."
   ]
  },
  {
   "cell_type": "markdown",
   "id": "2500bad2",
   "metadata": {},
   "source": [
    "## Data Preprocess"
   ]
  },
  {
   "cell_type": "markdown",
   "id": "fb839cc7",
   "metadata": {},
   "source": [
    "- Check the data before feeding into the model.\n",
    "- Identify if there is any missing data and populate (with zeroes if no other option)\n",
    "- Detect and fix inconsistencies, if any."
   ]
  },
  {
   "cell_type": "markdown",
   "id": "444d0622",
   "metadata": {},
   "source": [
    "# Model"
   ]
  },
  {
   "cell_type": "markdown",
   "id": "1fd236cd",
   "metadata": {},
   "source": [
    "This section largely depends on the results of the root cause analysis (RCA) and which solution we will pursue."
   ]
  },
  {
   "cell_type": "markdown",
   "id": "8e0fb879",
   "metadata": {},
   "source": [
    "## Model Selection"
   ]
  },
  {
   "cell_type": "markdown",
   "id": "21891919",
   "metadata": {},
   "source": [
    "- Need to do research on existing Vision System algorithms to prepare for the likelihood that the problem requires a solution using vision systems (Kalman filter, mean-shift algorithm, etc.)\n",
    "- Embryo selection is a very important factor in IVF success. My assumption is that this factor is a a top contributor to IVF success/failure. I believe vision systems can be a viable application to find a solution, or improve probability of success by selecting embryos with the best chances of leading to a pregnancy."
   ]
  },
  {
   "cell_type": "markdown",
   "id": "0311f0d9",
   "metadata": {},
   "source": [
    "## Model Training"
   ]
  },
  {
   "cell_type": "markdown",
   "id": "8d60abab",
   "metadata": {},
   "source": [
    "- I am hoping to be able to collaborate with a real IVF clinic to be able to obtain real, meaningful data to train my model.\n",
    "- Set KPIs to measure the performance of my model (algorithms), including efficiency and memory usage.\n",
    "- Will try to incorporate a logging functionality."
   ]
  },
  {
   "cell_type": "markdown",
   "id": "79b76a64",
   "metadata": {},
   "source": [
    "## Model Tuning"
   ]
  },
  {
   "cell_type": "markdown",
   "id": "c1cce845",
   "metadata": {},
   "source": [
    "- Are there best practices for model tuning I can leverage?\n",
    "- If this is an iterative process, I would like to learn more in detail how to make changes and re-run the training.\n",
    "- Do I need to create a \"test environment\"?"
   ]
  },
  {
   "cell_type": "markdown",
   "id": "ab9286d9",
   "metadata": {},
   "source": [
    "## Model Validation"
   ]
  },
  {
   "cell_type": "markdown",
   "id": "77c86e2b",
   "metadata": {},
   "source": [
    "- What is the model training telling me about the problem? Were we able to identify patterns or is the model leading towards finding an opportunity to make improvements to the IVF process?\n",
    "- Prepare the model for deployment."
   ]
  },
  {
   "cell_type": "markdown",
   "id": "2c1c6c5b",
   "metadata": {},
   "source": [
    "## Model Inference"
   ]
  },
  {
   "cell_type": "markdown",
   "id": "09f91b0d",
   "metadata": {},
   "source": [
    "- Prepare interfacing API \n",
    "- Deploy model in Docker."
   ]
  },
  {
   "cell_type": "markdown",
   "id": "f787bc37",
   "metadata": {},
   "source": [
    "## Model Interface"
   ]
  },
  {
   "cell_type": "markdown",
   "id": "bb85acb2",
   "metadata": {},
   "source": [
    "- Receive results / feedback from executing model in a \"production environment\".\n",
    "- Run a validation analysis on the data received.\n",
    "- Compare results against training results.\n",
    "- Does the model / algorithm need to be changed?"
   ]
  },
  {
   "cell_type": "markdown",
   "id": "5107dbb3",
   "metadata": {},
   "source": [
    "## Model Monitoring"
   ]
  },
  {
   "cell_type": "markdown",
   "id": "34f7fa6f",
   "metadata": {},
   "source": [
    "- Set metrics for tracking the performance of the model upon new and future real-time data.\n",
    "- Are there any anomalies detected upon processing specific data sets? \n",
    "- Does the model need to be retrained?"
   ]
  }
 ],
 "metadata": {
  "kernelspec": {
   "display_name": "Python 3 (ipykernel)",
   "language": "python",
   "name": "python3"
  },
  "language_info": {
   "codemirror_mode": {
    "name": "ipython",
    "version": 3
   },
   "file_extension": ".py",
   "mimetype": "text/x-python",
   "name": "python",
   "nbconvert_exporter": "python",
   "pygments_lexer": "ipython3",
   "version": "3.10.6"
  }
 },
 "nbformat": 4,
 "nbformat_minor": 5
}
