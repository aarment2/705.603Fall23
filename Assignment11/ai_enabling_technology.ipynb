{
 "cells": [
  {
   "cell_type": "markdown",
   "id": "2298dab4",
   "metadata": {},
   "source": [
    "**ASSIGNMENT: AI-ENABLING TECHNOLOGY**  \n",
    "\n",
    "# SUPPLYCHAINPY: A LIBRARY FOR SUPPLY CHAIN ANALISYS, MODELING, AND SIMULATION\n",
    "\n",
    "**Antonio Armenta 11/24/2023**\n",
    "\n",
    "<br>\n",
    "\n",
    "## SECTION 1: BUSINESS VALUE  \n",
    "A Supply Chain is an end-to-end system that enables the manufacturing and delivery of products and services to consumers. It forms a complex network of interconnected entities that include resources, organizations, and technologies. This network operates within a sequential framework that includes five major steps:  Plan, Source, Execute, Deliver, and Return. This process is the foundation of Supply Chain Management (SCM).  \n",
    "\n",
    "Many of us became aware of supply chain disruptions during and after the COVID-19 pandemic. While some might dismiss these challenges as temporary, the reality is that supply chains have gotten increasingly more complicated in recent years. The degree of interconnectedness accross the entire chain has brought increased risks with interdependence, volatility, and even geopolitical factors. On the other hand, this same integration has exponentially increased the volume of data available for SCM, and this creates excellent opportunities for Artificial Intelligence to capitalize.\n",
    "\n",
    "<img src=\"./AA_11_01.jpg\"  \n",
    "     width=\"550\" />\n",
    "\n",
    "AI holds immense potential for revolutionizing Supply Chain Management. AI offers the ability to process vast amounts of data to use it with predictive analytics, demand forecasting, and real-time decision-making. Some of the most powerful and well-known AI algorithms can be employed in SCM. For instance, Convolutional Neural Networks (CNNs), which are used for extracting patterns and features from a dataset, are also great for solving regression problems and for forecasting sales and future demands. Natural Language Processing (NLP) is a sentiment analysis algorithm that can be used to analyze product reviews in the marketing area. \n",
    "\n",
    "Given that supply chains are so comprehensive, it is possible to find applications for most well-known algorithms. In fact, existing AI-based SCM platforms offer a variety of ensemble methods depending on the task at hand. Some of the most recognizable AI-based SCM solutions today include AWS SageMaker (from Amazon Web Services), Microsoft Azure ML, IBM Watson, and Google Cloud Vertex AI. \n",
    "\n",
    "This analysis delves into supplychainpy, a new Python library for supply chain analysis, modeling and simulation. The preceding introductory insights lay the groundwork for describing the business value of a library like supplychainpy. By helping solve and automate some of the most data-intensive processes in Supply Chain Management, supplychainpy arrives at a critical moment in time. We have also alluded to the emergence of AI as a whole in the supply chain domain, which also means that there is still a large portion of the market that has yet to be tapped into, giving supplychainpy high potential for adoption. This leads us to the third substantial aspecto of this library's business value: cost. The reality is that the SCM platforms mentioned before typically require large investments to implement and maintain, making them cost-prohibitive for many potential customers, particularly for small and mid-sized enterprises. Therefore, an open platform such as supplychainpy is vital in bridging a crucial gap and allowing more inclusive accesibility to advanced supply chain analytics and management functionalities.\n",
    "\n",
    "<img src=\"./AA_11_02.jpg\"  \n",
    "     width=\"200\" />\n"
   ]
  },
  {
   "cell_type": "markdown",
   "id": "4f0cd6fb",
   "metadata": {},
   "source": [
    "## SECTION 2: COMPETITIVE POSITION  \n",
    "\n",
    "Supplychainpy is a unique python library for Supply Chain Management. Supplychainpy leverages the following dependencies: Numpy, Pandas, Flask, Scipy, matplotlib, SqlAlchemy, TextBlob, openpyxl, and xlwings. Supplychainpy builds upon these libraries to provide a more comprehensive and efficient SCM tool. Some of the most important functions available with supplychainpy are Demand Planning and Forecasting, Inventory Modeling, Pareto Analysis, Safety Stock, Reorder Levels, among others. It also includes a Reporting Suite to facilitate building and producing customized reports. At the moment, there is no other python library with the same focus and scope as supplychainpy.\n",
    "\n",
    "Supplychainpy stands out due to its seamless integration with Pandas. The library leverages the Pandas Dataframe and expands it, making it possible to execute intricate analysis with a few lines of code. This integration also ensures high compatibility and a shorter learning curve for most python users. Specific functions that can be performed on a Dataframe are detailed in the next section.\n",
    "\n",
    "Looking at this from a broader perspective, that is, comparing supplychainpy against commercially available AI-driven SCM solutions from well-established companies, this library also offers some advantages. As mentioned before, cost would be the most important advantage. Not only does this library have the potential to help build full-scale software platforms, but it can also serve as an intermediate step on the journey towards SCM digitalization. As is normal with everything that is new, some enterprises might have reservations against investing on an established AI platform. Supplychainpy has the potential to be utilized for developing proof-of-concepts using available data. These pilot tests can then be fully implemented into a production environment, or they can also help establish the basic requirements and business rules for a commercially available software platform. \n",
    "\n",
    "Another important advantage of the supplychainpy library is its educational potential. Usage of this library could be incorporated as a module in a class focused on Supply Chain Management optimization through AI."
   ]
  },
  {
   "cell_type": "markdown",
   "id": "d1315da7",
   "metadata": {},
   "source": [
    "## SECTION 3: TECHNICAL VALUE\n",
    "<br>\n",
    "\n",
    "<img src=\"./AA_11_03.png\"  \n",
    "     width=\"500\" />\n",
    "\n",
    "\n",
    "Below is an analysis of the technical value of the supplychainpy library looking at different functions and perspectives.\n",
    "\n",
    "- As mentioned before, supplychainpy's integration with Pandas helps it extend its functionalities, enabling a streamlined data handling and manipulation.\n",
    "- Supplychainpy functions such as analyse, Inventory, simple_exponential_smoothing_forecast, and analytical_hierarchical_process perform complex analysis on large input data with just one or two lines of code. The same analysis would take several hours to execute on a spreadsheet and many more lines of code when this library is not used. Let us keep in mind that this is information that is essential for making decisions regarding changes in the supply chain, and that the industry increasingly needs this in real-time. The value of this library can be more substantial for enterprises that still rely heavily on spreadsheets. Currently, there are many companies that rely on collections of large and complex spreadsheets for analyzing and reporting daily supply chain metrics. This process is time-consuming and somewhat unreliable. In many instances, data consolidation require several full-time equivalents in terms of man-hours. For the same reason, it is difficult to dedicate additional resources to validate the quality and integrity of the data, which would also further delay the processing. The following is a list of classes and functions available within the library:\n",
    "\n",
    "> ReportsLauncher  \n",
    "SupplychainpyReporting  \n",
    "analytical_hierarchy_process  \n",
    "simple_exponential_smoothing_forecast  \n",
    "_ses_forecast  \n",
    "holts_trend_corrected_exponential_smoothing_forecast  \n",
    "analyse  \n",
    "_convert_to_pandas_df  \n",
    "analyse_orders  \n",
    "analyse_orders_from_file_col  \n",
    "recommendations\n",
    "\n",
    "\n",
    "- The library determines key features from the input data that are tailored to address SCM-specific needs. The following is a list of SCM paratemeters that can be accessed after running the analyse function on the input data:\n",
    "\n",
    "> shortage_rank  \n",
    "in_orders  \n",
    "excess_units  \n",
    "revenue_rank  \n",
    "excess_rank  \n",
    "average_orders  \n",
    "gross_profit_margin  \n",
    "markup_percentage  \n",
    "max_order  \n",
    "shortage_cost  \n",
    "quantity_on_hand  \n",
    "inventory_turns  \n",
    "sku_id  \n",
    "retail_price  \n",
    "revenue_rank  \n",
    "shortage_units  \n",
    "unit_cost  \n",
    "classification  \n",
    "safety_stock_cost  \n",
    "safety_stock_units  \n",
    "safety_stock_rank  \n",
    "percentage_contribution_revenue  \n",
    "gross_profit_margin  \n",
    "shortage_rank  \n",
    "inventory_traffic_light  \n",
    "unit_cost_rank  \n",
    "excess_cost  \n",
    "excess_units  \n",
    "markup_percentage  \n",
    "revenue  \n",
    "\n",
    "- When used as a method to ingest and prepare data, supplychainpy can be a powerful tool complementing more advanced algorithms within supply chain analytics. This can help accelerate the deployment timeline, and reduce the running time of the algorithm. Using supplychainpy together with Pandas helps handle complex and diverse datasets, which are prevalent in supply chain ecosystems. Data cleansing, formatting, and transformation can be expedided by using both libraries together. Also, the efficient data processing capabilities of supplychainpy contribute to reducing the running time of algorithms, especially during data preparation. This reduction in processing time allows more responsive algorithmic outputs that enable agile responses to changes in supply chain scenarios and a more real-time decision making capability.\n",
    "\n",
    "- Supplychainpy's open-source nature fosters collaboration and innovation within the AI community. Developers are able to contribute to its codebase, helping to enhance the functionalities further. This characteristic gives this library an enormous potential to expand its scope. Could it perhaps develop into a full-blown open-source Supply Chain Management platform? The possibility is certainly there."
   ]
  },
  {
   "cell_type": "markdown",
   "id": "27b5bdad",
   "metadata": {
    "jp-MarkdownHeadingCollapsed": true
   },
   "source": [
    "## SECTION 4: EVALUATION\n",
    "<br>\n",
    "The primary goal of the supplychainpy library is to provide a set of tools and algorithms to help analyze and predict various factors of Supply Chain Management. After spending several hours testing its functions and reading through numerous classes from its source code, we are able to evaluate supplychainpy's effectiveness on delivering on its objectives. The following paragraphs provide an assessment of supplychainpy based on several criteria:\n",
    "\n",
    "- **Accuracy**: Inventory analysis and demand forecasting employ various methods to optimize inventory levels, manage variability of the demand per SKU, and assess and minimize risks. The results provided by the library are accurate when compared against established forecasting models. The base equations utilized in the analysis are industry standard.\n",
    "\n",
    "- **Performance**: The library performs complex analysis with few lines of code. This characteristic sometimes plays against the running time. In particular, the simulation module which includes the Monte Carlo simulation took exceedingly high running time when increasing the number of simulation runs from 50 to 100, for example. Further analysis of the source code could yield opportunities to optimize some of the algorithms in this module. Another issue I encountered was difficulty printing out some results on the screen. I needed to employ additional filters to print out a sample of the output data.\n",
    "\n",
    "- **Scalability**: In terms of running time, as mentioned before, the library has some issues with performance when handling large volumes of data in the simulation module. Talking about scalability in broader terms, however, this library has very high potential. With more development, this library has the potential to become a full-scale solution for Inventory and Supply Chain Management with Machine Learning and Artificial Intelligence capabilities.\n",
    "\n",
    "- **Versatility**: Supplychainpy provides a broad range of classes and functions to solve some of the most common analysis and forecasts required in the day-to-day of Supply Chain Management. While it does require a specific format for the input data, the volume of analysis that can be done with just a few lines of code is highly valuable. Many companies today spend significant resources to do these analysis using spreadsheets, which take longer and are generally more complicated.\n",
    "\n",
    "- **Compatibility**: I consider this needs urgent attention. The library has not got any major releases for at least three years, which means it is not compatible with many of the newest versions of Python and several of its most recent dependencies. This issue is more evident in the Reporting Feature, which is not possible to run unless many libraries are downgraded to releases from four to five years ago. There is no apparent reason for the recent lack of support, but I was suprised to learn aboout this as I was testing the features of this library. My hope is for new development and releases to start again, since this is a very promising project.\n",
    "\n",
    "- **Ease of Use**: Most of the functions are easy to use, as it is mostly a matter of understanding the parameters that must be passed. The documentation available on the website is sufficient, but could be more extensive, although it does assume some SCM-domain expertise and experience with python. Another area of the documentation that needs improvement is the installation steps. Without a comprehensive installation guide, it takes more time to figure out compatibility and other specifics.\n",
    "\n",
    "- **Community and Support**: Supplychainpy severely lacks active support from the developer community. There is a Google forum still available for posting questions and issues, but there is no participation in it for several years. As someone who works in Supply Chain and Industrial Automation, I find it difficult to understand why this library didn't get more attention and support before. I have two theories that might explain this. One is that AI is only very recently entering the supply chain and industrial automation industries, and this library might have been released too early. Perhaps with a renewed push from a focus group, this library could get renewed attention. My other theory comes from a personal observation from within the industry, which is that the majority of companies still opt for commercially available solutions because they do not have the in-house knowledge to code their own solutions. I also see that this trend is changing towards that needed self-sufficiency which can empower more enterprises to develop their own software and then start using libraries such as supplychainpy.effectiveness further."
   ]
  },
  {
   "cell_type": "markdown",
   "id": "567cc045",
   "metadata": {},
   "source": [
    "## SECTION 5: DEMONSTRATION\n",
    "<br>\n",
    "\n",
    "**Installation Guide**\n",
    "1) IMPORTANT!!!: supplychainpy is not yet compatible with Python3.10 or above. Before running this notebook please make sure you are running Python3.9 or below.\n",
    "2) Microsoft C++ Build Tools is also required. The installation file can be found here:\n",
    "   https://visualstudio.microsoft.com/visual-cpp-build-tools/\n",
    "3) Make sure to validate and/or install all the dependencies required:\n",
    "   > numpy  \n",
    "   > matplotlib  \n",
    "   > pandas\n",
    "   > cython\n",
    "   > Flask\n",
    "   > flask-restful  \n",
    "   > flask-restless  \n",
    "   > flask-script  \n",
    "   > flask-SqlAlchemy  \n",
    "   > flask-uploads  \n",
    "   > flask-WTF\n",
    "   > scipy  \n",
    "   > sqlalchemy\n",
    "   > textblob  \n",
    "   > openpyxl (optional)  \n",
    "   > xlwings (optional)\n",
    "   apo4 install cython)\n",
    "5) python -m textblob5download_corpora\n",
    "6) Download supplychainpy library from https://pypi.org/project/supplychainpy/0.0.5/#files\n",
    "   Filename is supplycha6npy-0.0.5.tar.gz\n",
    "7) pip install supplychainpy-0.0.5.tar.gz\n",
    "\n",
    "<br>\n",
    "\n",
    "**Code Demonstration**  \n",
    "\n",
    "The following code demonstrates the capabilities of the supplychainpy library.enpyxl\r\n",
    "xlwings\n"
   ]
  },
  {
   "cell_type": "code",
   "execution_count": 110,
   "id": "988f82c6",
   "metadata": {},
   "outputs": [
    {
     "name": "stdout",
     "output_type": "stream",
     "text": [
      "sku: KR202-221\n",
      "standard_deviation: 742\n",
      "safety_stock: 1344\n",
      "demand_variability: 0.482\n",
      "reorder_level: 3523\n",
      "reorder_quantity: 12\n",
      "revenue: 91303620\n",
      "economic_order_quantity: 0\n",
      "economic_order_variable_cost: 12421.21\n",
      "ABC_XYZ_Classification: CY\n",
      "excess_stock: 0\n",
      "shortages: 0\n",
      "average_orders: 1540.8333\n",
      "unit_cost: 834\n",
      "quantity_on_hand: 4433\n",
      "currency: UNKNOWN\n",
      "orders: {'demand': ('771', '2941', '1360', '2714', '1801', '1744', '1428', '1660', '436', '578', '1956', '1101')}\n",
      "total_orders: 18490\n",
      "backlog: 10\n",
      "\n"
     ]
    }
   ],
   "source": [
    "%matplotlib inline\n",
    "\n",
    "import matplotlib\n",
    "import pandas as pd\n",
    "\n",
    "from supplychainpy.model_inventory import analyse\n",
    "from supplychainpy.model_demand import simple_exponential_smoothing_forecast\n",
    "from supplychainpy.model_inventory import analyse_orders_abcxyz_from_file\n",
    "from supplychainpy.sample_data.config import ABS_FILE_PATH\n",
    "from supplychainpy import simulate\n",
    "from supplychainpy.inventory.summarise import Inventory\n",
    "from decimal import Decimal\n",
    "\n",
    "#Read CSV file and create dataframe\n",
    "#According to the documentation, the library currently only accepts this specific format. Future releases should be more lenient.\n",
    "#For the demonstration, please use the dataset in the github: \"complete_dataset_large.csv\"\n",
    "\n",
    "#The first step is to set the absolute path of the dataset file. Please update this to the directory you are using.\n",
    "\n",
    "new_file_path = 'C:\\\\Main\\\\06_Johns Hopkins\\\\01_Semester01\\\\EN.705.603.81.FA23 Creating AI Enabled Systems\\\\Module11\\\\complete_dataset_large.csv'\n",
    "ABS_FILE_PATH['COMPLETE_CSV_SM'] = new_file_path\n",
    "\n",
    "\n",
    "##### ANALYSE FUNCTION #####\n",
    "#This function returns a list of 20 features that describe the demand for each SKU in the dataset.\n",
    "#The features that the analyse function outputs are the following:\n",
    "#safety stock, total_orders, standard_deviation, quantity_on_hand’: ‘1003, economic_order_variable_cost, sku, economic_order_quantity, unit_cost, demand_variability\n",
    "#average_orders, excess_stock, currency, ABC_XYZ_Classification, shortages, reorder_level, revenue, reorder_quantity, safety_stock, orders\n",
    "\n",
    "inventory_profile= analyse(file_path=ABS_FILE_PATH['COMPLETE_CSV_SM'], z_value=Decimal(1.28), reorder_cost=Decimal(400), file_type='csv')\n",
    "analysis_summary = [demand.orders_summary() for demand in inventory_profile]\n",
    "\n",
    "#Print the supply chain features of a single sku. Using sku KR202-221 as an example.\n",
    "single_sku_summary = [item for item in analysis_summary if item.get('sku') == 'KR202-221']\n",
    "\n",
    "for item in single_sku_summary:\n",
    "    for key, value in item.items():\n",
    "        print(f\"{key}: {value}\")\n",
    "    print() \n",
    "    \n",
    "#print(analysis_summary) #Uncomment to view all sku's"
   ]
  },
  {
   "cell_type": "code",
   "execution_count": 111,
   "id": "af2b10d0-6851-4eb2-a456-91bb011e3488",
   "metadata": {},
   "outputs": [
    {
     "name": "stdout",
     "output_type": "stream",
     "text": [
      "ABC-XYZ CLASSIFICATION SUMMARY\n",
      "Class AX: Count=0, Ratio=0.00%\n",
      "Class AY: Count=286, Ratio=57.31%\n",
      "Class AZ: Count=6, Ratio=1.20%\n",
      "Class BX: Count=0, Ratio=0.00%\n",
      "Class BY: Count=66, Ratio=13.23%\n",
      "Class BZ: Count=4, Ratio=0.80%\n",
      "Class CX: Count=1, Ratio=0.20%\n",
      "Class CY: Count=123, Ratio=24.65%\n",
      "Class CZ: Count=13, Ratio=2.61%\n"
     ]
    }
   ],
   "source": [
    "##### ABC-XYZ CLASSIFICATION #####\n",
    "#This classification method is essential in inventory management and supply chain optimization. It helps prioritize sku's based on significance and variability.\n",
    "#The method consists of two separate analysis, joined together: ABC and XYZ.\n",
    "#The ABC analysis is based on significance in terms of inventory value or sales. \"A\" items are the most valuable. \"B\" items are moderately significant.\n",
    "#\"C\" items are the least valuable, and yet typically represent the majority of the sku's.\n",
    "#The XYZ analysis describes the predictability and/or stability of the demand patters for each sku, with X items being more consistent, and Z items being the least.\n",
    "\n",
    "#The ABC-XYZ classification is an output of the analyse function. \n",
    "#We can use the results of analyse to obtain valuable information about the composition of our inventory.\n",
    "\n",
    "#ABC-XYZ Classification Summary\n",
    "class_count = {'AX': 0, 'AY': 0, 'AZ': 0, 'BX': 0, 'BY': 0, 'BZ': 0, 'CX': 0, 'CY': 0, 'CZ': 0}\n",
    "\n",
    "for demand in analysis_summary:\n",
    "    abc_xyz_classification = demand.get('ABC_XYZ_Classification')\n",
    "    if abc_xyz_classification in class_count:\n",
    "        class_count[abc_xyz_classification] += 1\n",
    "\n",
    "total_items = sum(class_count.values())\n",
    "\n",
    "class_ratios = {}\n",
    "for class_name, count in class_count.items():\n",
    "    ratio = count / total_items if total_items != 0 else 0\n",
    "    class_ratios[class_name] = ratio\n",
    "\n",
    "print(\"ABC-XYZ CLASSIFICATION SUMMARY\")\n",
    "for class_name, count in class_count.items():\n",
    "    ratio = class_ratios[class_name]\n",
    "    print(f\"Class {class_name}: Count={count}, Ratio={ratio:.2%}\")\n",
    "\n"
   ]
  },
  {
   "cell_type": "code",
   "execution_count": 112,
   "id": "6e32640a-1b68-4e84-a82f-fdea07c9ef2c",
   "metadata": {},
   "outputs": [
    {
     "name": "stdout",
     "output_type": "stream",
     "text": [
      "['KR202-274', 'KR202-616', 'KR202-570', 'KR202-287', 'KR202-446', 'KR202-284', 'KR202-566', 'KR202-296', 'KR202-453', 'KR202-299', 'KR202-590']\n"
     ]
    }
   ],
   "source": [
    "##### SAFETY STOCK #####\n",
    "#Safety stock is extra inventory held to mitigate risks, such as shortages or stockouts. Sku's are priorized and ranked based on variability to detemine\n",
    "#appropriate safety stock levels. It is always important to closely monitor the sku's with the highest safety stock ranks due to risks.\n",
    "\n",
    "#The Inventory class below is another way to obtain a summary of our inventory. With some additional code, we can get the most significant items\n",
    "#in our supply chain, in terms of safety stock.\n",
    "\n",
    "filtered_summary = Inventory(analysed_inventory_profile)\n",
    "\n",
    "top_10_safety_stock_skus =  [summary.get('sku')for summary in filtered_summary.rank_summary(attribute='safety_stock', count=10)]\n",
    "print(top_10_safety_stock_skus)"
   ]
  },
  {
   "cell_type": "code",
   "execution_count": 113,
   "id": "46d38da2-2ef7-4d80-9792-a2ce1a0981c7",
   "metadata": {},
   "outputs": [],
   "source": [
    "#We covered a few examples of analysis that can be performed on our supply chain data with few lines of code using supplychainpy.\n",
    "#This analysis can be done on any of the relevant features output by the analyse function."
   ]
  },
  {
   "cell_type": "code",
   "execution_count": 114,
   "id": "83620214-6037-43d9-a7b9-9ad1db123182",
   "metadata": {},
   "outputs": [
    {
     "name": "stdout",
     "output_type": "stream",
     "text": [
      "       alpha   t  demand  level_estimates  one_step_forecast  forecast_error  \\\n",
      "0   0.008973   1    2416      1619.394369        1612.181818      803.818182   \n",
      "1   0.008973   2    2010      1622.899219        1619.394369      390.605631   \n",
      "2   0.008973   3    2527      1631.011592        1622.899219      904.100781   \n",
      "3   0.008973   4    1409      1629.019512        1631.011592     -222.011592   \n",
      "4   0.008973   5    1059      1623.904805        1629.019512     -570.019512   \n",
      "5   0.008973   6     890      1617.319578        1623.904805     -733.904805   \n",
      "6   0.008973   7    2837      1628.263603        1617.319578     1219.680422   \n",
      "7   0.008973   8     276      1616.129927        1628.263603    -1352.263603   \n",
      "8   0.008973   9     987      1610.484831        1616.129927     -629.129927   \n",
      "9   0.008973  10    2228      1616.025710        1610.484831      617.515169   \n",
      "10  0.008973  11    1095      1611.350617        1616.025710     -521.025710   \n",
      "\n",
      "    squared_error  \n",
      "0    6.461237e+05  \n",
      "1    1.525728e+05  \n",
      "2    8.173982e+05  \n",
      "3    4.928915e+04  \n",
      "4    3.249222e+05  \n",
      "5    5.386163e+05  \n",
      "6    1.487620e+06  \n",
      "7    1.828617e+06  \n",
      "8    3.958045e+05  \n",
      "9    3.813250e+05  \n",
      "10   2.714678e+05  \n"
     ]
    },
    {
     "data": {
      "text/plain": [
       "<Axes: xlabel='t'>"
      ]
     },
     "execution_count": 114,
     "metadata": {},
     "output_type": "execute_result"
    },
    {
     "data": {
      "image/png": "[encoded data removed]",
      "text/plain": [
       "<Figure size 640x480 with 1 Axes>"
      ]
     },
     "metadata": {},
     "output_type": "display_data"
    }
   ],
   "source": [
    "##### FORECASTING #####\n",
    "#The Forecast class includes several methods employed in forecasting demand. For example: moving average, weighted moving average, mean absolute deviation,\n",
    "#simple exponential smoothing, holts-trend-corrected exponential smoothing.\n",
    "#The code below demonstrates the simple exponential smoothing method.\n",
    "\n",
    "#Read input data and choose one sku for the forecast.\n",
    "input_df =pd.read_csv(ABS_FILE_PATH['COMPLETE_CSV_SM'])\n",
    "test_sku = 'KR202-214'\n",
    "row_df = input_df[input_df['Sku']==test_sku].squeeze()\n",
    "\n",
    "#Run the simple exponential smoothing function, passing the demand parameters.\n",
    "ses_df = simple_exponential_smoothing_forecast(demand=row_df[1:12], length=12, smoothing_level_constant=0.8)\n",
    "\n",
    "#Get forecast features into a dataframe and plot the forecast.\n",
    "forecast_breakdown_df = pd.DataFrame(ses_df.get('forecast_breakdown', 'UNKNOWN'))\n",
    "print(forecast_breakdown_df)\n",
    "forecast_breakdown_df.plot(x='t', y=['one_step_forecast','demand'])\n"
   ]
  },
  {
   "cell_type": "code",
   "execution_count": 138,
   "id": "07afc2f5-2660-4b6a-830d-40d21e59505a",
   "metadata": {},
   "outputs": [
    {
     "name": "stdout",
     "output_type": "stream",
     "text": [
      "[{'sku_id': 'KR202-209', 'minimum_closing_stock': 0, 'maximum_closing_stock': 4119, 'average_closing_stock': '1934', 'standard_deviation_closing_stock': '1257', 'service_level': '91.67', 'average_quantity_sold': '1934', 'maximum_quantity_sold': 4119.0, 'minimum_quantity_sold': 0.0, 'minimum_backlog': -711.0, 'maximum_backlog': 0.0, 'average_backlog': '-59', 'standard_deviation_backlog': '197', 'minimum_opening_stock': 0, 'maximum_opening_stock': 4069, 'variance_opening_stock': '1250', 'standard_deviation_quantity_sold': '1257', 'average_shortage_units': '0'}]\n"
     ]
    }
   ],
   "source": [
    "##### MONTE CARLO SIMULATION #####\n",
    "#Supplychainpy comes with a class to run simulations, including the Monte Carlo technique. Monte Carlo is an algorithm that utilizes random samples to approximate the probability of different outcomes\n",
    "#in scenarios that involve uncertainty. Monte Carlo is very useful in Supply Chain Management due to its versatility. It can help with risk asssessment and decision-making. Below are some applications of Monte Carlo\n",
    "#within SCM.\n",
    "#Demand Forecasting: incorporate market changes, seasonality, and other uncertainties to help optimize inventory levels and prevent stockouts.\n",
    "#Risk Assessment: evaluate risks and impacts of disruptions in transportation, production delays, supplier issues, among other factors.\n",
    "#Network Optimization: simulate and evaluate different supply chain network configurations, transportation routes, production and warehouse locations and capacities.\n",
    "\n",
    "#The run_monte_carlo function takes a summary of orders per sku as input. The other two parameters specify the number of runs for the simulation and the period length\n",
    "#In this case, we are using 12 months for the time period of each run. Also, for the purpose of the demo, I limited it to 1 run. I have executed up to 100 runs with no issues,\n",
    "#except the print command output on the screen is exceeded.\n",
    "\n",
    "orders_analysis = analyse_orders_abcxyz_from_file(file_path=\"complete_dataset_large.csv\", z_value=Decimal(1.28), reorder_cost=Decimal(5000), file_type=\"csv\")\n",
    "sim = simulate.run_monte_carlo(orders_analysis=orders_analysis, runs=1, period_length=12)\n",
    "sim_window = simulate.summarize_window(simulation_frame=sim, period_length=12)\n",
    "sim_frame= simulate.summarise_frame(sim_window)\n",
    "#print(sim_frame) #uncomment to view full results\n",
    "\n",
    "#The results of the monte carlo simulation can be analyzed for a particular sku by choosing an sku and iterating through the list.\n",
    "sim_sku = 'KR202-209'\n",
    "sku_simulation_results = [item for item in sim_frame if item.get('sku_id') == sim_sku]\n",
    "print(sku_simulation_results)"
   ]
  },
  {
   "attachments": {},
   "cell_type": "markdown",
   "id": "106dae44-043b-4c5c-9ae6-f09e2e9b1e11",
   "metadata": {},
   "source": [
    "##### REPORTING SUITE #####\n",
    "The reporting feature provides an overview of the analyses and forecast and helps communicate important insights quickly. \n",
    "\n",
    "To run the reporting application in Flask, execute the following command from a termina window:\n",
    "supplychainpy complete_dataset_large.csv -a -loc C:\\Main\\06_Johns Hopkins\\01_Semester01\\EN.705.603.81.FA23 Creating AI Enabled Systems\\Module11 -l -cur EUR\n",
    "\n",
    "The reporting suite provides a summary of the inventory profile using various techniques, such as Pareto. Classification includes revenuew breakdown, shortages and inventory excessed by category, to name a few.\n",
    "\n",
    "<img src=\"./AA_11_04.jpg\"  \n",
    "     width=\"500\" />\n",
    "\n",
    "<img src=\"./AA_11_05.jpg\"  \n",
    "     width=\"500\" />\n",
    "\n",
    "There is also a chatbot feature to query the analysis using NLP.  \n",
    "\n",
    "<img src=\"./AA_11_06.gif\"  \n",
    "     width=\"500\" />\n",
    "\n",
    "The \"recommendations\" section provides automatically generated recommendations for each SKU, based on analysis and forecasts.\n",
    "\n",
    "<img src=\"./AA_11_07.gif\"  \n",
    "     width=\"500\" />\n"
   ]
  },
  {
   "cell_type": "markdown",
   "id": "2a4800fa-a701-4599-b54e-2844620c2624",
   "metadata": {},
   "source": [
    "## SECTION 6: CONCLUSION/RECOMMENDATION\n",
    "<br>\n",
    "Supplychainpy is an easy-to-use library that can perform complex supply chain analysis and forecasting with just a few lines of code. It is a library with very high potential for scalability and with a wide adoption potential. It is also a versatile tool that provides numerous functions to solve complex supply chain work in a comparatively small amount of time, saving time and other resources. On the other hand, it has some performance issues when working with large datasets, in particular, the simulation module. It is recommended to review the algorithms employed in this module to find opportunities to optimize. With all of its potential, and with all the circumstances around AI adoption in Supply Chain Management, it is difficult to understand why this library has not seen any major release for years and why there is very little community support. Supplychainpy is a project that must be revived now that there is increased interest in bringing Artificial Intelligence into the world of Supply Chain Management."
   ]
  },
  {
   "cell_type": "code",
   "execution_count": null,
   "id": "69e0ea7e-1f23-4894-8f5c-b6ac46589df4",
   "metadata": {},
   "outputs": [],
   "source": []
  }
 ],
 "metadata": {
  "kernelspec": {
   "display_name": "Python 3 (ipykernel)",
   "language": "python",
   "name": "python3"
  },
  "language_info": {
   "codemirror_mode": {
    "name": "ipython",
    "version": 3
   },
   "file_extension": ".py",
   "mimetype": "text/x-python",
   "name": "python",
   "nbconvert_exporter": "python",
   "pygments_lexer": "ipython3",
   "version": "3.9.18"
  }
 },
 "nbformat": 4,
 "nbformat_minor": 5
}
